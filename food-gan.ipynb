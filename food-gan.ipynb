{
 "cells": [
  {
   "cell_type": "code",
   "execution_count": 1,
   "id": "79a4eb3f",
   "metadata": {
    "execution": {
     "iopub.execute_input": "2023-07-08T12:00:44.418361Z",
     "iopub.status.busy": "2023-07-08T12:00:44.417885Z",
     "iopub.status.idle": "2023-07-08T12:00:49.214453Z",
     "shell.execute_reply": "2023-07-08T12:00:49.213100Z"
    },
    "papermill": {
     "duration": 4.810026,
     "end_time": "2023-07-08T12:00:49.217868",
     "exception": false,
     "start_time": "2023-07-08T12:00:44.407842",
     "status": "completed"
    },
    "tags": []
   },
   "outputs": [],
   "source": [
    "import os\n",
    "import torch\n",
    "import numpy as np\n",
    "from tqdm import tqdm\n",
    "import torch.nn as nn\n",
    "import imageio as iio\n",
    "import matplotlib.pyplot as plt\n",
    "from torch.autograd import Variable\n",
    "from torch.optim import lr_scheduler\n",
    "from torchvision.datasets import Food101 as Food\n",
    "from torchvision.utils import save_image\n",
    "import torchvision.transforms as transforms\n",
    "from torch.utils.data import Dataset, DataLoader"
   ]
  },
  {
   "cell_type": "code",
   "execution_count": 2,
   "id": "9935c57d",
   "metadata": {
    "execution": {
     "iopub.execute_input": "2023-07-08T12:00:49.236213Z",
     "iopub.status.busy": "2023-07-08T12:00:49.235003Z",
     "iopub.status.idle": "2023-07-08T12:00:49.242213Z",
     "shell.execute_reply": "2023-07-08T12:00:49.240781Z"
    },
    "papermill": {
     "duration": 0.018707,
     "end_time": "2023-07-08T12:00:49.244681",
     "exception": false,
     "start_time": "2023-07-08T12:00:49.225974",
     "status": "completed"
    },
    "tags": []
   },
   "outputs": [],
   "source": [
    "# Define the parameters for the training process\n",
    "n_epochs = 100\n",
    "batch_size = 128\n",
    "lr = 0.0002\n",
    "b1 = 0.5\n",
    "b2 = 0.999\n",
    "latent_dim = 100\n",
    "mean = 0.5\n",
    "std = 0.5"
   ]
  },
  {
   "cell_type": "code",
   "execution_count": 3,
   "id": "4f31e8bc",
   "metadata": {
    "execution": {
     "iopub.execute_input": "2023-07-08T12:00:49.261383Z",
     "iopub.status.busy": "2023-07-08T12:00:49.260915Z",
     "iopub.status.idle": "2023-07-08T12:00:51.468860Z",
     "shell.execute_reply": "2023-07-08T12:00:51.467145Z"
    },
    "papermill": {
     "duration": 2.220843,
     "end_time": "2023-07-08T12:00:51.472746",
     "exception": false,
     "start_time": "2023-07-08T12:00:49.251903",
     "status": "completed"
    },
    "tags": []
   },
   "outputs": [],
   "source": [
    "!mkdir \"food_train\"\n",
    "!mkdir 'food_test'"
   ]
  },
  {
   "cell_type": "markdown",
   "id": "7e5c5cca",
   "metadata": {
    "papermill": {
     "duration": 0.007174,
     "end_time": "2023-07-08T12:00:51.487394",
     "exception": false,
     "start_time": "2023-07-08T12:00:51.480220",
     "status": "completed"
    },
    "tags": []
   },
   "source": [
    "# Data preprocessing"
   ]
  },
  {
   "cell_type": "code",
   "execution_count": 4,
   "id": "455df63c",
   "metadata": {
    "execution": {
     "iopub.execute_input": "2023-07-08T12:00:51.505264Z",
     "iopub.status.busy": "2023-07-08T12:00:51.504305Z",
     "iopub.status.idle": "2023-07-08T12:18:26.976540Z",
     "shell.execute_reply": "2023-07-08T12:18:26.974934Z"
    },
    "papermill": {
     "duration": 1055.485725,
     "end_time": "2023-07-08T12:18:26.980501",
     "exception": false,
     "start_time": "2023-07-08T12:00:51.494776",
     "status": "completed"
    },
    "tags": []
   },
   "outputs": [
    {
     "name": "stdout",
     "output_type": "stream",
     "text": [
      "Downloading https://data.vision.ee.ethz.ch/cvl/food-101.tar.gz to ./food_train/food-101.tar.gz\n"
     ]
    },
    {
     "name": "stderr",
     "output_type": "stream",
     "text": [
      "100%|██████████| 4996278331/4996278331 [07:10<00:00, 11612324.73it/s]\n"
     ]
    },
    {
     "name": "stdout",
     "output_type": "stream",
     "text": [
      "Extracting ./food_train/food-101.tar.gz to ./food_train\n",
      "Downloading https://data.vision.ee.ethz.ch/cvl/food-101.tar.gz to ./food_test/food-101.tar.gz\n"
     ]
    },
    {
     "name": "stderr",
     "output_type": "stream",
     "text": [
      "100%|██████████| 4996278331/4996278331 [07:04<00:00, 11782973.61it/s]\n"
     ]
    },
    {
     "name": "stdout",
     "output_type": "stream",
     "text": [
      "Extracting ./food_test/food-101.tar.gz to ./food_test\n"
     ]
    }
   ],
   "source": [
    "trans = transforms.Compose([transforms.ToTensor(), \n",
    "                            transforms.Normalize([mean], [std])\n",
    "                           ])\n",
    "dataset_train = Food(root=\"./food_train\", download = True, transform = trans)\n",
    "dataset_test = Food(root=\"./food_test\", download = True, transform = trans, split = \"test\")"
   ]
  },
  {
   "cell_type": "code",
   "execution_count": 5,
   "id": "0b8c1c7b",
   "metadata": {
    "execution": {
     "iopub.execute_input": "2023-07-08T12:18:27.822246Z",
     "iopub.status.busy": "2023-07-08T12:18:27.821777Z",
     "iopub.status.idle": "2023-07-08T12:18:27.828396Z",
     "shell.execute_reply": "2023-07-08T12:18:27.827193Z"
    },
    "papermill": {
     "duration": 0.482466,
     "end_time": "2023-07-08T12:18:27.831641",
     "exception": false,
     "start_time": "2023-07-08T12:18:27.349175",
     "status": "completed"
    },
    "tags": []
   },
   "outputs": [
    {
     "name": "stdout",
     "output_type": "stream",
     "text": [
      "No. of train images: 75750\n",
      "No. of test images: 25250\n"
     ]
    }
   ],
   "source": [
    "print('No. of train images:', len(dataset_train))\n",
    "print('No. of test images:', len(dataset_test))"
   ]
  },
  {
   "cell_type": "code",
   "execution_count": 6,
   "id": "27a0df4a",
   "metadata": {
    "execution": {
     "iopub.execute_input": "2023-07-08T12:18:28.559909Z",
     "iopub.status.busy": "2023-07-08T12:18:28.559093Z",
     "iopub.status.idle": "2023-07-08T12:18:28.568629Z",
     "shell.execute_reply": "2023-07-08T12:18:28.567381Z"
    },
    "papermill": {
     "duration": 0.374252,
     "end_time": "2023-07-08T12:18:28.571254",
     "exception": false,
     "start_time": "2023-07-08T12:18:28.197002",
     "status": "completed"
    },
    "tags": []
   },
   "outputs": [
    {
     "data": {
      "text/plain": [
       "<torch.utils.data.dataset.ConcatDataset at 0x7c992f67f2b0>"
      ]
     },
     "execution_count": 6,
     "metadata": {},
     "output_type": "execute_result"
    }
   ],
   "source": [
    "dataset = dataset_train + dataset_test\n",
    "dataset"
   ]
  },
  {
   "cell_type": "code",
   "execution_count": 7,
   "id": "75f3c078",
   "metadata": {
    "execution": {
     "iopub.execute_input": "2023-07-08T12:18:29.321867Z",
     "iopub.status.busy": "2023-07-08T12:18:29.321290Z",
     "iopub.status.idle": "2023-07-08T12:18:29.326922Z",
     "shell.execute_reply": "2023-07-08T12:18:29.325517Z"
    },
    "papermill": {
     "duration": 0.373839,
     "end_time": "2023-07-08T12:18:29.329508",
     "exception": false,
     "start_time": "2023-07-08T12:18:28.955669",
     "status": "completed"
    },
    "tags": []
   },
   "outputs": [],
   "source": [
    "# dataloader = DataLoader(dataset, batch_size= batch_size, shuffle= False)\n",
    "\n",
    "# batch1 = iter(dataloader)\n",
    "# for i in batch1:\n",
    "#     print(batch1[i])\n",
    "#     break\n",
    "# # print(batch1)\n",
    "\n"
   ]
  },
  {
   "cell_type": "code",
   "execution_count": 8,
   "id": "8c268b4a",
   "metadata": {
    "collapsed": true,
    "execution": {
     "iopub.execute_input": "2023-07-08T12:18:30.060107Z",
     "iopub.status.busy": "2023-07-08T12:18:30.059546Z",
     "iopub.status.idle": "2023-07-08T12:18:30.065251Z",
     "shell.execute_reply": "2023-07-08T12:18:30.064014Z"
    },
    "jupyter": {
     "outputs_hidden": true
    },
    "papermill": {
     "duration": 0.380791,
     "end_time": "2023-07-08T12:18:30.068088",
     "exception": false,
     "start_time": "2023-07-08T12:18:29.687297",
     "status": "completed"
    },
    "tags": []
   },
   "outputs": [],
   "source": [
    "# img_shape = dataset[0].shape\n",
    "# channels, img_sizex, img_sizey = img_shape\n",
    "# print(img_shape)\n",
    "# print(channels)"
   ]
  },
  {
   "cell_type": "code",
   "execution_count": 9,
   "id": "114140e0",
   "metadata": {
    "execution": {
     "iopub.execute_input": "2023-07-08T12:18:30.889036Z",
     "iopub.status.busy": "2023-07-08T12:18:30.888548Z",
     "iopub.status.idle": "2023-07-08T12:18:30.893585Z",
     "shell.execute_reply": "2023-07-08T12:18:30.892368Z"
    },
    "papermill": {
     "duration": 0.47302,
     "end_time": "2023-07-08T12:18:30.896027",
     "exception": false,
     "start_time": "2023-07-08T12:18:30.423007",
     "status": "completed"
    },
    "tags": []
   },
   "outputs": [],
   "source": [
    "# plt.figure(figsize=(12,12))\n",
    "# for i in range(64):\n",
    "#   plt.subplot(8,8, i+1)\n",
    "#   img = dataset[i] * std + mean # Denormalize the image: denormalized_image = (normalized_image * std) + mean\n",
    "#   plt.imshow(img.permute(1, 2, 0))\n",
    "#   plt.axis(\"off\")"
   ]
  },
  {
   "cell_type": "markdown",
   "id": "c1cad495",
   "metadata": {
    "papermill": {
     "duration": 0.358342,
     "end_time": "2023-07-08T12:18:31.616567",
     "exception": false,
     "start_time": "2023-07-08T12:18:31.258225",
     "status": "completed"
    },
    "tags": []
   },
   "source": [
    "# DataLoader"
   ]
  },
  {
   "cell_type": "markdown",
   "id": "6cc012ca",
   "metadata": {
    "papermill": {
     "duration": 0.393382,
     "end_time": "2023-07-08T12:18:32.388269",
     "exception": false,
     "start_time": "2023-07-08T12:18:31.994887",
     "status": "completed"
    },
    "tags": []
   },
   "source": [
    "# GAN Model"
   ]
  },
  {
   "cell_type": "code",
   "execution_count": 10,
   "id": "f7f46b07",
   "metadata": {
    "execution": {
     "iopub.execute_input": "2023-07-08T12:18:33.131617Z",
     "iopub.status.busy": "2023-07-08T12:18:33.130854Z",
     "iopub.status.idle": "2023-07-08T12:18:33.137648Z",
     "shell.execute_reply": "2023-07-08T12:18:33.136712Z"
    },
    "papermill": {
     "duration": 0.387825,
     "end_time": "2023-07-08T12:18:33.140151",
     "exception": false,
     "start_time": "2023-07-08T12:18:32.752326",
     "status": "completed"
    },
    "tags": []
   },
   "outputs": [
    {
     "data": {
      "text/plain": [
       "'cpu'"
      ]
     },
     "execution_count": 10,
     "metadata": {},
     "output_type": "execute_result"
    }
   ],
   "source": [
    "device = \"cuda\" if torch.cuda.is_available() else \"cpu\"\n",
    "device"
   ]
  },
  {
   "cell_type": "code",
   "execution_count": 11,
   "id": "d21ced26",
   "metadata": {
    "execution": {
     "iopub.execute_input": "2023-07-08T12:18:33.855639Z",
     "iopub.status.busy": "2023-07-08T12:18:33.854804Z",
     "iopub.status.idle": "2023-07-08T12:18:33.866278Z",
     "shell.execute_reply": "2023-07-08T12:18:33.865290Z"
    },
    "papermill": {
     "duration": 0.374199,
     "end_time": "2023-07-08T12:18:33.869280",
     "exception": false,
     "start_time": "2023-07-08T12:18:33.495081",
     "status": "completed"
    },
    "tags": []
   },
   "outputs": [],
   "source": [
    "class Generator(nn.Module):\n",
    "    def __init__(self):\n",
    "        super(Generator, self).__init__()\n",
    "\n",
    "        def block(in_channels, out_channels, kernel_size=4, stride=2, padding=1, normalize=True):\n",
    "            layers = [nn.ConvTranspose2d(in_channels, out_channels, kernel_size, stride, padding, bias=False)]\n",
    "            if normalize:\n",
    "                layers.append(nn.BatchNorm2d(out_channels))\n",
    "            layers.append(nn.LeakyReLU(0.2, inplace=True))\n",
    "            return layers\n",
    "\n",
    "        self.model = nn.Sequential(\n",
    "        # input is Z, going into a convolution\n",
    "        *block(latent_dim, 512, 4, 1, 0, normalize=False),  # First layer block\n",
    "            *block(512, 256, 4, 2, 1),  # 2nd layer block\n",
    "     *block(256, 128, 4, 2, 1), # 3rd layer block\n",
    "        *block(128, 64, 4, 2, 1),   # 4th layer block\n",
    "        *block(64, 32, 4, 2, 1),    # Added a fifth layer block\n",
    "        nn.ConvTranspose2d(32, channels, 3, 1, 1), # Final Convolutional layer\n",
    "        nn.Tanh() # Tanh activation for output       \n",
    "        )\n",
    "\n",
    "    def forward(self,z): # Forward propagation function\n",
    "#         print(\"z before exe in gen:\", z.shape)\n",
    "        z = z.view(z.size(0), z.size(1),1 ,1) # Reshape the input tensor in (B x C x H x W) format\n",
    "#         print(\"z shape in gen:\", z.shape)\n",
    "#         print(\"z inside gen:\", z)\n",
    "        img = self.model(z) # Pass input through the model\n",
    "        return img # Return the image\n"
   ]
  },
  {
   "cell_type": "code",
   "execution_count": 12,
   "id": "148e8321",
   "metadata": {
    "execution": {
     "iopub.execute_input": "2023-07-08T12:18:34.702250Z",
     "iopub.status.busy": "2023-07-08T12:18:34.701750Z",
     "iopub.status.idle": "2023-07-08T12:18:34.712096Z",
     "shell.execute_reply": "2023-07-08T12:18:34.711229Z"
    },
    "papermill": {
     "duration": 0.370982,
     "end_time": "2023-07-08T12:18:34.714454",
     "exception": false,
     "start_time": "2023-07-08T12:18:34.343472",
     "status": "completed"
    },
    "tags": []
   },
   "outputs": [],
   "source": [
    "class Discriminator(nn.Module):\n",
    "    def __init__(self):\n",
    "        super(Discriminator, self).__init__()\n",
    "\n",
    "        # Function to create a convolutional layer block (Conv -> LeakyReLU)\n",
    "        def block(in_channels, out_channels, kernel_size=4, stride=2, padding=1):\n",
    "            return [\n",
    "                nn.Conv2d(in_channels, out_channels, kernel_size, stride, padding, bias=False),\n",
    "                nn.LeakyReLU(0.2, inplace=True)\n",
    "            ]\n",
    "\n",
    "        self.model = nn.Sequential(\n",
    "            *block(channels, 32),  # First layer block\n",
    "            *block(32, 64),  # Second layer block\n",
    "            *block(64, 128),  # Second layer block\n",
    "            *block(128, 256),  # Third layer block\n",
    "            *block(256, 512),  # Fourth layer block\n",
    "            nn.Conv2d(512, 1, 2, 1, 0),  # Final convolutional layer\n",
    "            nn.Sigmoid()  # Sigmoid activation for output\n",
    "        )\n",
    "\n",
    "    def forward(self, img):  # Forward propagation function\n",
    "        validity = self.model(img)  # Pass the image through the model\n",
    "#         validity = validity.view(validity.size(0), 1)  # Forcing the shape of the output\n",
    "        validity = validity.view(validity.size(0), -1)  # Flatten the output\n",
    "        return validity  # Return the validity"
   ]
  },
  {
   "cell_type": "code",
   "execution_count": 13,
   "id": "48506d70",
   "metadata": {
    "execution": {
     "iopub.execute_input": "2023-07-08T12:18:35.434153Z",
     "iopub.status.busy": "2023-07-08T12:18:35.433624Z",
     "iopub.status.idle": "2023-07-08T12:18:35.439599Z",
     "shell.execute_reply": "2023-07-08T12:18:35.438409Z"
    },
    "papermill": {
     "duration": 0.363589,
     "end_time": "2023-07-08T12:18:35.442126",
     "exception": false,
     "start_time": "2023-07-08T12:18:35.078537",
     "status": "completed"
    },
    "tags": []
   },
   "outputs": [],
   "source": [
    "# # We use binary cross-entropy loss for the adversarial loss function\n",
    "# adversarial_loss = torch.nn.BCELoss()\n",
    "\n",
    "# # Initialize the generator and the discriminator\n",
    "# generator = Generator()\n",
    "# discriminator = Discriminator()\n",
    "\n",
    "# # If CUDA is available, we use it for the models and the loss function\n",
    "# if torch.cuda.is_available():\n",
    "#     generator.cuda()\n",
    "#     discriminator.cuda()\n",
    "#     adversarial_loss.cuda()\n",
    "\n",
    "\n",
    "# # We use the Adam optimizer for both the generator and the discriminator\n",
    "# optimizer_G = torch.optim.Adam(generator.parameters(), lr=lr, betas=(b1, b2))\n",
    "# optimizer_D = torch.optim.Adam(discriminator.parameters(), lr=lr, betas=(b1, b2))\n",
    "\n",
    "\n",
    "# # Initialize schedulers\n",
    "# scheduler_G = lr_scheduler.StepLR(optimizer_G, step_size=30, gamma=0.1)\n",
    "# scheduler_D = lr_scheduler.StepLR(optimizer_D, step_size=30, gamma=0.1)\n",
    "\n",
    "# #\n",
    "# Tensor = torch.cuda.FloatTensor if torch.cuda.is_available() else torch.FloatTensor"
   ]
  },
  {
   "cell_type": "code",
   "execution_count": 14,
   "id": "da20351c",
   "metadata": {
    "execution": {
     "iopub.execute_input": "2023-07-08T12:18:36.168160Z",
     "iopub.status.busy": "2023-07-08T12:18:36.166845Z",
     "iopub.status.idle": "2023-07-08T12:18:36.172978Z",
     "shell.execute_reply": "2023-07-08T12:18:36.171698Z"
    },
    "papermill": {
     "duration": 0.371809,
     "end_time": "2023-07-08T12:18:36.175558",
     "exception": false,
     "start_time": "2023-07-08T12:18:35.803749",
     "status": "completed"
    },
    "tags": []
   },
   "outputs": [],
   "source": [
    "# !mkdir 'training_predictions01'"
   ]
  },
  {
   "cell_type": "code",
   "execution_count": 15,
   "id": "513914a3",
   "metadata": {
    "execution": {
     "iopub.execute_input": "2023-07-08T12:18:36.890586Z",
     "iopub.status.busy": "2023-07-08T12:18:36.890071Z",
     "iopub.status.idle": "2023-07-08T12:18:36.899065Z",
     "shell.execute_reply": "2023-07-08T12:18:36.897218Z"
    },
    "papermill": {
     "duration": 0.373391,
     "end_time": "2023-07-08T12:18:36.901705",
     "exception": false,
     "start_time": "2023-07-08T12:18:36.528314",
     "status": "completed"
    },
    "tags": []
   },
   "outputs": [],
   "source": [
    "# # Initialize list to store losses for Generator and Discriminator\n",
    "# g_losses = []\n",
    "# d_losses = []\n",
    "\n",
    "# # Training Loop\n",
    "# for epoch in tqdm(range(n_epochs)):  # Loop over the dataset multiple times, for each epoch\n",
    "#     g_loss_accum = 0.0\n",
    "#     d_loss_accum = 0.0\n",
    "#     num_batches = 0\n",
    "#     for i, (imgs) in enumerate(dataloader):  # Loop over each batch of real images in the dataset\n",
    "# #         print(imgs.shape)\n",
    "#         # Ground truths for real and fake images (real: 1, fake: 0)\n",
    "#         valid = Variable(Tensor(imgs.size(0), 1).fill_(1.0), requires_grad=False)\n",
    "#         fake = Variable(Tensor(imgs.size(0), 1).fill_(0.0), requires_grad=False)\n",
    "\n",
    "#         # Configure input, this will be used for training the discriminator with real images\n",
    "#         real_imgs = Variable(imgs.type(Tensor))\n",
    "\n",
    "#         # -----------------\n",
    "#         #  Train Generator\n",
    "#         # -----------------\n",
    "\n",
    "#         optimizer_G.zero_grad()  # Clears the gradients of all optimized tensors\n",
    "#         # Sample noise as generator input\n",
    "#         z = Tensor(np.random.normal(0, 1, (imgs.shape[0], latent_dim)))\n",
    "# #         print(z.shape)\n",
    "        \n",
    "#         # zz = z.view(z.size(0), z.size(1), 1, 1) \n",
    "#         # print(zz.shape)\n",
    "\n",
    "#         # Generate a batch of images from the noise\n",
    "#         gen_imgs = generator(z)\n",
    "# #         print(gen_imgs.shape)\n",
    "# #         print(valid.shape)\n",
    "# #         print(discriminator(gen_imgs).shape)\n",
    "\n",
    "\n",
    "#         # Loss measures generator's ability to fool the discriminator\n",
    "#         g_loss = adversarial_loss(discriminator(gen_imgs), valid)\n",
    "\n",
    "#         g_loss.backward()  # Compute the gradient of g_loss w.r.t. the Generator's parameters\n",
    "#         optimizer_G.step()  # Update the Generator's weights\n",
    "       \n",
    "\n",
    "#         # ---------------------\n",
    "#         #  Train Discriminator\n",
    "#         # ---------------------\n",
    "\n",
    "#         optimizer_D.zero_grad()  # Clears the gradients of all optimized tensors\n",
    "\n",
    "#         # Measure discriminator's ability to classify real from generated samples\n",
    "#         real_loss = adversarial_loss(discriminator(real_imgs), valid)  # Loss for real images\n",
    "#         fake_loss = adversarial_loss(discriminator(gen_imgs.detach()), fake)  # Loss for fake images\n",
    "#         d_loss = (real_loss + fake_loss) / 2  # Take the average of these two losses\n",
    "\n",
    "#         d_loss.backward()  # Compute the gradient of d_loss w.r.t. the Discriminator's parameters\n",
    "#         optimizer_D.step()  # Update the Discriminator's weights\n",
    "        \n",
    "\n",
    "#         # Accumulate losses for this batch\n",
    "#         g_loss_accum += g_loss.item()\n",
    "#         d_loss_accum += d_loss.item()\n",
    "#         num_batches += 1\n",
    "\n",
    "#     # Step the learning rate\n",
    "#     scheduler_G.step()\n",
    "#     scheduler_D.step()\n",
    "\n",
    "#     # Save average losses for this epoch\n",
    "#     g_losses.append(g_loss_accum / num_batches)\n",
    "#     d_losses.append(d_loss_accum / num_batches)\n",
    "    \n",
    "#         # Save a batch of generated images every 10 epochs\n",
    "#     if epoch % 10 == 0 or epoch == 100:\n",
    "#         save_image(gen_imgs.data[:25], f\"/kaggle/working/training_predictions01/epoch_{epoch}.png\", nrow=5, normalize=True)        "
   ]
  },
  {
   "cell_type": "code",
   "execution_count": 16,
   "id": "30301169",
   "metadata": {
    "execution": {
     "iopub.execute_input": "2023-07-08T12:18:37.735213Z",
     "iopub.status.busy": "2023-07-08T12:18:37.734714Z",
     "iopub.status.idle": "2023-07-08T12:18:37.740538Z",
     "shell.execute_reply": "2023-07-08T12:18:37.739213Z"
    },
    "papermill": {
     "duration": 0.474124,
     "end_time": "2023-07-08T12:18:37.743065",
     "exception": false,
     "start_time": "2023-07-08T12:18:37.268941",
     "status": "completed"
    },
    "tags": []
   },
   "outputs": [],
   "source": [
    "# # Plotting the losses\n",
    "# plt.figure(figsize=(10,5))\n",
    "# plt.title(\"Generator and Discriminator Loss During Training\")\n",
    "# plt.plot(g_losses,label=\"Generator\")\n",
    "# plt.plot(d_losses,label=\"Discriminator\")\n",
    "# plt.xlabel(\"epochs\")\n",
    "# plt.ylabel(\"Loss\")\n",
    "# plt.legend()\n",
    "# plt.show()"
   ]
  },
  {
   "cell_type": "code",
   "execution_count": null,
   "id": "aa6c765c",
   "metadata": {
    "papermill": {
     "duration": 0.3574,
     "end_time": "2023-07-08T12:18:38.462261",
     "exception": false,
     "start_time": "2023-07-08T12:18:38.104861",
     "status": "completed"
    },
    "tags": []
   },
   "outputs": [],
   "source": []
  }
 ],
 "metadata": {
  "kernelspec": {
   "display_name": "Python 3",
   "language": "python",
   "name": "python3"
  },
  "language_info": {
   "codemirror_mode": {
    "name": "ipython",
    "version": 3
   },
   "file_extension": ".py",
   "mimetype": "text/x-python",
   "name": "python",
   "nbconvert_exporter": "python",
   "pygments_lexer": "ipython3",
   "version": "3.10.10"
  },
  "papermill": {
   "default_parameters": {},
   "duration": 1092.853153,
   "end_time": "2023-07-08T12:18:42.039703",
   "environment_variables": {},
   "exception": null,
   "input_path": "__notebook__.ipynb",
   "output_path": "__notebook__.ipynb",
   "parameters": {},
   "start_time": "2023-07-08T12:00:29.186550",
   "version": "2.4.0"
  }
 },
 "nbformat": 4,
 "nbformat_minor": 5
}
